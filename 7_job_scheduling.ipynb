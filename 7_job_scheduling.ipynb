{
  "nbformat": 4,
  "nbformat_minor": 0,
  "metadata": {
    "colab": {
      "name": "job_scheduling.ipynb",
      "provenance": []
    },
    "kernelspec": {
      "name": "python3",
      "display_name": "Python 3"
    }
  },
  "cells": [
    {
      "cell_type": "markdown",
      "source": [
        "PROBLEM STATEMENT : https://www.techiedelight.com/job-sequencing-problem-deadlines/"
      ],
      "metadata": {
        "id": "yz-Dnd81T2EU"
      }
    },
    {
      "cell_type": "code",
      "source": [
        "# A class to store job details. Each job has an identifier,\n",
        "# a deadline, and profit associated with it.\n",
        "class Job:\n",
        "    def __init__(self, taskId, deadline, profit):\n",
        "        self.taskId = taskId\n",
        "        self.deadline = deadline\n",
        "        self.profit = profit\n",
        " \n",
        " \n",
        "# Function to schedule jobs to maximize profit\n",
        "def scheduleJobs(jobs, T):\n",
        " \n",
        "    # stores the maximum profit that can be earned by scheduling jobs\n",
        "    profit = 0\n",
        " \n",
        "    # list to store used and unused slots info\n",
        "    slot = [-1] * T\n",
        " \n",
        "    # arrange the jobs in decreasing order of their profits\n",
        "    jobs.sort(key=lambda x: x.profit, reverse=True)\n",
        " \n",
        "    # consider each job in decreasing order of their profits\n",
        "    for job in jobs:\n",
        "        # search for the next free slot and map the task to that slot\n",
        "        for j in reversed(range(job.deadline)):\n",
        "            if j < T and slot[j] == -1:\n",
        "                slot[j] = job.taskId\n",
        "                profit += job.profit\n",
        "                break\n",
        " \n",
        "    # print the scheduled jobs\n",
        "    print('The scheduled jobs are', list(filter(lambda x: x != -1, slot)))\n",
        " \n",
        "    # print total profit that can be earned\n",
        "    print('The total profit earned is', profit)\n",
        " \n",
        " \n",
        "if __name__ == '__main__':\n",
        " \n",
        "    # List of given jobs. Each job has an identifier, a deadline, and\n",
        "    # profit associated with it\n",
        "    jobs = [\n",
        "        Job(1, 9, 15), Job(2, 2, 2), Job(3, 5, 18), Job(4, 7, 1), Job(5, 4, 25),\n",
        "        Job(6, 2, 20), Job(7, 5, 8), Job(8, 7, 10), Job(9, 4, 12), Job(10, 3, 5)\n",
        "    ]\n",
        " \n",
        "    # stores the maximum deadline that can be associated with a job\n",
        "    T = 15\n",
        " \n",
        "    # schedule jobs and calculate the maximum profit\n",
        "    scheduleJobs(jobs, T)"
      ],
      "metadata": {
        "id": "NyoajbR9T3SK"
      },
      "execution_count": null,
      "outputs": []
    }
  ]
}